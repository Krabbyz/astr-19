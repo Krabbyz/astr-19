{
 "cells": [
  {
   "cell_type": "code",
   "execution_count": 9,
   "id": "df2e568d-dd8d-471a-acd5-e6fe4c15040b",
   "metadata": {},
   "outputs": [],
   "source": [
    "import numpy as np"
   ]
  },
  {
   "cell_type": "markdown",
   "id": "9904ef15-7cff-4677-a19a-710fffb76e0a",
   "metadata": {},
   "source": [
    "sinFunction takes in an x and returns the sin of x\n",
    "cosFunction takes in an x and returns the cos of x"
   ]
  },
  {
   "cell_type": "code",
   "execution_count": 10,
   "id": "fe295cc2-f0c4-4ad9-a0e3-8ec6cf0b98d3",
   "metadata": {},
   "outputs": [],
   "source": [
    "def sinFunction(x):\n",
    "    return np.sin(x)"
   ]
  },
  {
   "cell_type": "code",
   "execution_count": 11,
   "id": "7ef49a97-e4fc-40f0-9f26-31f11df7ed12",
   "metadata": {},
   "outputs": [],
   "source": [
    "def cosFunction(x):\n",
    "    return np.cos(x)"
   ]
  },
  {
   "cell_type": "code",
   "execution_count": 16,
   "id": "cb9ebdd7-c953-4c06-86f7-bc46cc73587c",
   "metadata": {},
   "outputs": [],
   "source": [
    "x = np.linspace(0, 2*np.pi, 1000)\n",
    "sinNums = sinFunction(x)\n",
    "cosNums = cosFunction(x)"
   ]
  },
  {
   "cell_type": "code",
   "execution_count": 17,
   "id": "84b9ec96-5f86-4558-a07f-6287485aec18",
   "metadata": {},
   "outputs": [
    {
     "name": "stdout",
     "output_type": "stream",
     "text": [
      "0.0   0.0   1.0\n",
      "0.006289474781961547   0.006289433316067751   0.9999802213186835\n",
      "0.012578949563923095   0.012578617838741058   0.9999208860571256\n",
      "0.018868424345884642   0.01886730478446709   0.9998219965624733\n",
      "0.02515789912784619   0.025155245389375847   0.999683556746534\n",
      "0.03144737390980774   0.0314421909191206   0.9995055720856217\n",
      "0.037736848691769284   0.03772789267871718   0.9992880496203402\n",
      "0.04402632347373083   0.04401210202238166   0.9990309979553046\n",
      "0.05031579825569238   0.05029457036336619   0.9987344272588006\n",
      "0.056605273037653926   0.05657504918379235   0.9983983492623831\n"
     ]
    }
   ],
   "source": [
    "for i in range(10):\n",
    "    print(f\"{x[i]}   {sinNums[i]}   {cosNums[i]}\")"
   ]
  }
 ],
 "metadata": {
  "kernelspec": {
   "display_name": "ASTR 19",
   "language": "python",
   "name": "astr19"
  },
  "language_info": {
   "codemirror_mode": {
    "name": "ipython",
    "version": 3
   },
   "file_extension": ".py",
   "mimetype": "text/x-python",
   "name": "python",
   "nbconvert_exporter": "python",
   "pygments_lexer": "ipython3",
   "version": "3.10.12"
  }
 },
 "nbformat": 4,
 "nbformat_minor": 5
}
